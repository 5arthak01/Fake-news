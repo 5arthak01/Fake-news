{
 "cells": [
  {
   "cell_type": "code",
   "execution_count": 1,
   "metadata": {},
   "outputs": [],
   "source": [
    "import csv\n",
    "import string\n",
    "from nltk.corpus import stopwords\n",
    "import re\n",
    "\n",
    "stop_words = set(stopwords.words('english'))"
   ]
  },
  {
   "cell_type": "markdown",
   "metadata": {},
   "source": [
    "Data extraction from csv file"
   ]
  },
  {
   "cell_type": "code",
   "execution_count": 2,
   "metadata": {},
   "outputs": [],
   "source": [
    "author = []\n",
    "content = []\n",
    "date = []\n",
    "title = []\n",
    "\n",
    "with open('data.csv', 'r', encoding='utf8') as file:\n",
    "    reader = csv.reader(file)\n",
    "    #fields = next(reader)\n",
    "\n",
    "    for row in reader:\n",
    "        author.append(row[0])\n",
    "        content.append(row[1])\n",
    "        date.append(row[2])\n",
    "        title.append(row[3])"
   ]
  },
  {
   "cell_type": "markdown",
   "metadata": {},
   "source": [
    "Data cleaning"
   ]
  },
  {
   "cell_type": "code",
   "execution_count": 3,
   "metadata": {
    "scrolled": false
   },
   "outputs": [],
   "source": [
    "def cleaning(rawcontent):\n",
    "    #rawcontent is known to be a list of strings\n",
    "    content=[]\n",
    "    textcontent=[]\n",
    "    alphabets = set(string.ascii_letters)\n",
    "    endings = set([' ', '!', '?', '.'])\n",
    "\n",
    "    for text in rawcontent:\n",
    "        # for each string \"text\" in rawcontent\n",
    "\n",
    "        clean = \"\"\n",
    "        \n",
    "        # Consider only alphabets and convert them into lowercase, seperated by spaces\n",
    "        for letter in text:\n",
    "            if letter in alphabets:\n",
    "                clean+=letter.lower()\n",
    "            elif letter in endings:\n",
    "                clean+=letter\n",
    "    \n",
    "        # remove words with high occurence but no use\n",
    "        clean = clean.split()\n",
    "        clean=[word for word in clean if word not in stop_words] \n",
    "\n",
    "        content.append(set(clean))\n",
    "        textcontent.append(' '.join(clean))\n",
    "    \n",
    "    return (content, textcontent)\n",
    "\n",
    "titles, texttitles = cleaning(title)\n",
    "contents, textcontents = cleaning(content)\n"
   ]
  },
  {
   "cell_type": "code",
   "execution_count": 4,
   "metadata": {},
   "outputs": [
    {
     "name": "stdout",
     "output_type": "stream",
     "text": [
      "Social media: 125\n",
      "BJP: 403\n",
      "Congress: 265\n",
      "News networks: 233\n"
     ]
    }
   ],
   "source": [
    "bjp = ['bjp', 'amit shah', 'narendra modi', 'aadityanath yogi']\n",
    "congress = ['congress', 'inc', 'ncp', 'rahul gandhi', 'sonia gandhi']\n",
    "socialmedia = ['facebook', 'wechat', 'whatsapp', 'instagram', 'twitter', 'youtube', 'qq', 'tumblr', 'reddit', 'tiktok', 'linkedin', 'snapchat', 'pinterest']\n",
    "news = ['aaj tak', 'abp news', 'cnbc', 'ndtv', 'india tv', 'republic bharat', 'news18 india', 'zee news', 'cnn', 'dd india', 'times now', 'bbc']\n",
    "\n",
    "def count(trends):\n",
    "    counter = 0\n",
    "\n",
    "    for x in range(len(contents)):\n",
    "        for trend in trends:\n",
    "            if ' ' not in trend:\n",
    "                if trend[0] in titles[x] or trend[0] in contents[x]:\n",
    "                    counter+=1\n",
    "                    break \n",
    "            else:\n",
    "                if all(word in titles[x] or word in contents[x] for word in trend.split()):\n",
    "                    rgx = '\\\\b' + trend + '\\\\b'\n",
    "                    if re.search(rgx, textcontents[x]) or re.search(rgx, texttitles[x]):\n",
    "                        counter+=1\n",
    "                        break\n",
    "    \n",
    "    return counter\n",
    "\n",
    "print(\"Social media: \" + str(count(socialmedia)))\n",
    "print(\"BJP: \" + str(count(bjp)))\n",
    "print(\"Congress: \" + str(count(congress)))\n",
    "print(\"News networks: \" + str(count(news)))"
   ]
  },
  {
   "cell_type": "code",
   "execution_count": null,
   "metadata": {},
   "outputs": [],
   "source": []
  }
 ],
 "metadata": {
  "kernelspec": {
   "display_name": "Python 3",
   "language": "python",
   "name": "python3"
  },
  "language_info": {
   "codemirror_mode": {
    "name": "ipython",
    "version": 3
   },
   "file_extension": ".py",
   "mimetype": "text/x-python",
   "name": "python",
   "nbconvert_exporter": "python",
   "pygments_lexer": "ipython3",
   "version": "3.6.9"
  }
 },
 "nbformat": 4,
 "nbformat_minor": 4
}
